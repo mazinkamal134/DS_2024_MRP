{
  "nbformat": 4,
  "nbformat_minor": 0,
  "metadata": {
    "colab": {
      "provenance": [],
      "machine_shape": "hm",
      "toc_visible": true,
      "authorship_tag": "ABX9TyMBXbLs88B/DGcY+u1Fe/VZ",
      "include_colab_link": true
    },
    "kernelspec": {
      "name": "python3",
      "display_name": "Python 3"
    },
    "language_info": {
      "name": "python"
    }
  },
  "cells": [
    {
      "cell_type": "markdown",
      "metadata": {
        "id": "view-in-github",
        "colab_type": "text"
      },
      "source": [
        "<a href=\"https://colab.research.google.com/github/mazinkamal134/DS_2024_MRP/blob/main/Master_Dataset_Processing_Pipeline.ipynb\" target=\"_parent\"><img src=\"https://colab.research.google.com/assets/colab-badge.svg\" alt=\"Open In Colab\"/></a>"
      ]
    },
    {
      "cell_type": "markdown",
      "source": [
        "- Ingest the tweets\n",
        "- Add the diagnosis dates and treatment dates\n",
        "- Add the music sessions\n",
        "- Add the TensiStrengh stress scores\n",
        "- Add the user info"
      ],
      "metadata": {
        "id": "AFUo5ferwF7G"
      }
    },
    {
      "cell_type": "code",
      "source": [
        "import pandas as pd\n",
        "import pickle\n",
        "from datetime import datetime\n",
        "import os\n",
        "import json"
      ],
      "metadata": {
        "id": "ZCYA0RVxwGx5"
      },
      "execution_count": null,
      "outputs": []
    },
    {
      "cell_type": "code",
      "source": [
        "# mount the Google Drive\n",
        "from google.colab import drive\n",
        "drive.mount('/content/drive')"
      ],
      "metadata": {
        "colab": {
          "base_uri": "https://localhost:8080/"
        },
        "id": "v1fGXpDkwJXa",
        "outputId": "cdeb45dc-6889-4f4f-fa34-a6e1c42824bb"
      },
      "execution_count": 2,
      "outputs": [
        {
          "output_type": "stream",
          "name": "stdout",
          "text": [
            "Mounted at /content/drive\n"
          ]
        }
      ]
    },
    {
      "cell_type": "markdown",
      "source": [
        "### Global Params"
      ],
      "metadata": {
        "id": "QcN6jYCBJYtg"
      }
    },
    {
      "cell_type": "code",
      "source": [
        "tweetsDir = \"/content/drive/MyDrive/MRP/Mazin_Works/Project Docs/Data/Tweets\"\n",
        "tensiStrenghtDir = \"/content/drive/MyDrive/MRP/Mazin_Works/Project Docs/Data/TensiStrenght\"\n",
        "demographicsDir = \"/content/drive/MyDrive/MRP/Mazin_Works/Project Docs/Data/Demographics\"\n",
        "authorsDir = \"/content/drive/MyDrive/MRP/Mazin_Works/Project Docs/Data/Authors\"\n",
        "musicDir = r\"/content/drive/MyDrive/MRP/Mazin_Works/Project Docs/Data/Music\""
      ],
      "metadata": {
        "id": "WdkH_OM7wdiV"
      },
      "execution_count": null,
      "outputs": []
    },
    {
      "cell_type": "code",
      "source": [
        "# Read parquet file for modifications only\n",
        "# Otherwise, skip this step and go through all other steps one by one\n",
        "\"\"\"\n",
        "fileName = os.path.join(tweetsDir, \"processedTweets.parquet\")\n",
        "tweetsDf = pd.read_parquet(fileName)\n",
        "\"\"\""
      ],
      "metadata": {
        "id": "nGk1KHwrPCfP"
      },
      "execution_count": null,
      "outputs": []
    },
    {
      "cell_type": "markdown",
      "source": [
        "### Ingest the control tweets"
      ],
      "metadata": {
        "id": "c1Jp8HsqxFEs"
      }
    },
    {
      "cell_type": "code",
      "source": [
        "# Read the control Tweets CSV file and pickle\n",
        "fileName = os.path.join(tweetsDir, \"control_tweets.csv\")\n",
        "controlTweetsDf = pd.read_csv(fileName)\n",
        "# Add the group\n",
        "controlTweetsDf[\"group\"] = 0\n",
        "print(\"Control Shape:\", controlTweetsDf.shape)"
      ],
      "metadata": {
        "colab": {
          "base_uri": "https://localhost:8080/"
        },
        "id": "b5BF4JKPwaYY",
        "outputId": "2d63df63-5a63-4967-8dfc-d2e490e6a301"
      },
      "execution_count": null,
      "outputs": [
        {
          "output_type": "stream",
          "name": "stdout",
          "text": [
            "Control Shape: (6452058, 19)\n"
          ]
        }
      ]
    },
    {
      "cell_type": "markdown",
      "source": [
        "### Ingest the treatment tweets"
      ],
      "metadata": {
        "id": "bjMfRFtyxONM"
      }
    },
    {
      "cell_type": "code",
      "source": [
        "# Read the treatment Tweets CSV file and pickle\n",
        "fileName = os.path.join(tweetsDir, \"treatment_tweets.csv\")\n",
        "treatmentTweetsDf = pd.read_csv(fileName)\n",
        "# Add the group\n",
        "treatmentTweetsDf[\"group\"] = 1\n",
        "print(\"Treatment Shape:\", treatmentTweetsDf.shape)"
      ],
      "metadata": {
        "colab": {
          "base_uri": "https://localhost:8080/"
        },
        "id": "Z2hrIFbnxLpC",
        "outputId": "3c591a48-4072-45cd-b542-71568843f75a"
      },
      "execution_count": null,
      "outputs": [
        {
          "output_type": "stream",
          "name": "stdout",
          "text": [
            "Treatment Shape: (9090297, 19)\n"
          ]
        }
      ]
    },
    {
      "cell_type": "markdown",
      "source": [
        "### Combine control and treatment"
      ],
      "metadata": {
        "id": "eMTraK1qxbPz"
      }
    },
    {
      "cell_type": "code",
      "source": [
        "# Combine\n",
        "tweetsDf = pd.concat([controlTweetsDf, treatmentTweetsDf])\n",
        "print(\"Shape combined:\", tweetsDf.shape)\n",
        "\n",
        "# Free up the menmory (only on Jupytor, no need on Google Colab with High-RAM)\n",
        "#del controlTweetsDf\n",
        "#del treatmentTweetsDf\n",
        "\n",
        "# Fix the data types\n",
        "tweetsDf[\"created_at\"] = pd.to_datetime(tweetsDf.created_at).dt.tz_convert(None)\n",
        "tweetsDf[\"author_id\"] = tweetsDf[\"author_id\"].astype(\"str\")\n",
        "\n",
        "# Reorder the columns\n",
        "cols = [\"id\", \"tweet_type\", \"referenced_tweet_type\", \"created_at\", \"lang\", \"disorder\", \"author_id\", \"text\", \"cleaned_text\", \"retweet_count\", \"reply_count\", \"like_count\", \"quote_count\", \"source\", \"group\"]\n",
        "tweetsDf = tweetsDf[cols]"
      ],
      "metadata": {
        "colab": {
          "base_uri": "https://localhost:8080/"
        },
        "id": "7Mg8dRuUxgCZ",
        "outputId": "1069cab2-8bea-49ce-8f19-56c0e0b047bd"
      },
      "execution_count": null,
      "outputs": [
        {
          "output_type": "stream",
          "name": "stdout",
          "text": [
            "Shape combined: (15542355, 19)\n"
          ]
        }
      ]
    },
    {
      "cell_type": "markdown",
      "source": [
        "### Get the diagnose dates\n"
      ],
      "metadata": {
        "id": "x6JjQgcexqFp"
      }
    },
    {
      "cell_type": "code",
      "source": [
        "diagnosisDatesDf = tweetsDf[tweetsDf.tweet_type == \"diagnose\"].reset_index(drop = True)\n",
        "# Convert the created_at to date\n",
        "diagnosisDatesDf[\"created_at\"] = diagnosisDatesDf[\"created_at\"].dt.date\n",
        "# Keep only the author_id, created_at, and group, and rename created_at to diagnosis_date\n",
        "diagnosisDatesDf = diagnosisDatesDf[[\"author_id\", \"created_at\"]].rename(columns = {\"created_at\": \"diagnosis_date\"})\n",
        "# Select the tweet with the minimum created data for each author and remove others\n",
        "diagnosisDatesDf = diagnosisDatesDf.groupby(\"author_id\").diagnosis_date.min().reset_index()\n",
        "print (\"Diagnosis Dates Shape:\", diagnosisDatesDf.shape)\n",
        "diagnosisDatesDf.sample()"
      ],
      "metadata": {
        "colab": {
          "base_uri": "https://localhost:8080/",
          "height": 98
        },
        "id": "ySn8e30wxv1l",
        "outputId": "0e7b0f74-f0ae-4cf5-a2b0-981d95944817"
      },
      "execution_count": null,
      "outputs": [
        {
          "output_type": "stream",
          "name": "stdout",
          "text": [
            "Diagnosis Dates Shape: (8624, 2)\n"
          ]
        },
        {
          "output_type": "execute_result",
          "data": {
            "text/plain": [
              "                author_id diagnosis_date\n",
              "2295  1251994534470397952     2020-06-24"
            ],
            "text/html": [
              "\n",
              "  <div id=\"df-ee061d1f-239c-403d-99c2-583b6c468032\" class=\"colab-df-container\">\n",
              "    <div>\n",
              "<style scoped>\n",
              "    .dataframe tbody tr th:only-of-type {\n",
              "        vertical-align: middle;\n",
              "    }\n",
              "\n",
              "    .dataframe tbody tr th {\n",
              "        vertical-align: top;\n",
              "    }\n",
              "\n",
              "    .dataframe thead th {\n",
              "        text-align: right;\n",
              "    }\n",
              "</style>\n",
              "<table border=\"1\" class=\"dataframe\">\n",
              "  <thead>\n",
              "    <tr style=\"text-align: right;\">\n",
              "      <th></th>\n",
              "      <th>author_id</th>\n",
              "      <th>diagnosis_date</th>\n",
              "    </tr>\n",
              "  </thead>\n",
              "  <tbody>\n",
              "    <tr>\n",
              "      <th>2295</th>\n",
              "      <td>1251994534470397952</td>\n",
              "      <td>2020-06-24</td>\n",
              "    </tr>\n",
              "  </tbody>\n",
              "</table>\n",
              "</div>\n",
              "    <div class=\"colab-df-buttons\">\n",
              "\n",
              "  <div class=\"colab-df-container\">\n",
              "    <button class=\"colab-df-convert\" onclick=\"convertToInteractive('df-ee061d1f-239c-403d-99c2-583b6c468032')\"\n",
              "            title=\"Convert this dataframe to an interactive table.\"\n",
              "            style=\"display:none;\">\n",
              "\n",
              "  <svg xmlns=\"http://www.w3.org/2000/svg\" height=\"24px\" viewBox=\"0 -960 960 960\">\n",
              "    <path d=\"M120-120v-720h720v720H120Zm60-500h600v-160H180v160Zm220 220h160v-160H400v160Zm0 220h160v-160H400v160ZM180-400h160v-160H180v160Zm440 0h160v-160H620v160ZM180-180h160v-160H180v160Zm440 0h160v-160H620v160Z\"/>\n",
              "  </svg>\n",
              "    </button>\n",
              "\n",
              "  <style>\n",
              "    .colab-df-container {\n",
              "      display:flex;\n",
              "      gap: 12px;\n",
              "    }\n",
              "\n",
              "    .colab-df-convert {\n",
              "      background-color: #E8F0FE;\n",
              "      border: none;\n",
              "      border-radius: 50%;\n",
              "      cursor: pointer;\n",
              "      display: none;\n",
              "      fill: #1967D2;\n",
              "      height: 32px;\n",
              "      padding: 0 0 0 0;\n",
              "      width: 32px;\n",
              "    }\n",
              "\n",
              "    .colab-df-convert:hover {\n",
              "      background-color: #E2EBFA;\n",
              "      box-shadow: 0px 1px 2px rgba(60, 64, 67, 0.3), 0px 1px 3px 1px rgba(60, 64, 67, 0.15);\n",
              "      fill: #174EA6;\n",
              "    }\n",
              "\n",
              "    .colab-df-buttons div {\n",
              "      margin-bottom: 4px;\n",
              "    }\n",
              "\n",
              "    [theme=dark] .colab-df-convert {\n",
              "      background-color: #3B4455;\n",
              "      fill: #D2E3FC;\n",
              "    }\n",
              "\n",
              "    [theme=dark] .colab-df-convert:hover {\n",
              "      background-color: #434B5C;\n",
              "      box-shadow: 0px 1px 3px 1px rgba(0, 0, 0, 0.15);\n",
              "      filter: drop-shadow(0px 1px 2px rgba(0, 0, 0, 0.3));\n",
              "      fill: #FFFFFF;\n",
              "    }\n",
              "  </style>\n",
              "\n",
              "    <script>\n",
              "      const buttonEl =\n",
              "        document.querySelector('#df-ee061d1f-239c-403d-99c2-583b6c468032 button.colab-df-convert');\n",
              "      buttonEl.style.display =\n",
              "        google.colab.kernel.accessAllowed ? 'block' : 'none';\n",
              "\n",
              "      async function convertToInteractive(key) {\n",
              "        const element = document.querySelector('#df-ee061d1f-239c-403d-99c2-583b6c468032');\n",
              "        const dataTable =\n",
              "          await google.colab.kernel.invokeFunction('convertToInteractive',\n",
              "                                                    [key], {});\n",
              "        if (!dataTable) return;\n",
              "\n",
              "        const docLinkHtml = 'Like what you see? Visit the ' +\n",
              "          '<a target=\"_blank\" href=https://colab.research.google.com/notebooks/data_table.ipynb>data table notebook</a>'\n",
              "          + ' to learn more about interactive tables.';\n",
              "        element.innerHTML = '';\n",
              "        dataTable['output_type'] = 'display_data';\n",
              "        await google.colab.output.renderOutput(dataTable, element);\n",
              "        const docLink = document.createElement('div');\n",
              "        docLink.innerHTML = docLinkHtml;\n",
              "        element.appendChild(docLink);\n",
              "      }\n",
              "    </script>\n",
              "  </div>\n",
              "\n",
              "\n",
              "    </div>\n",
              "  </div>\n"
            ],
            "application/vnd.google.colaboratory.intrinsic+json": {
              "type": "dataframe",
              "repr_error": "0"
            }
          },
          "metadata": {},
          "execution_count": 7
        }
      ]
    },
    {
      "cell_type": "markdown",
      "source": [
        "#### Update the diagnosis dates for all"
      ],
      "metadata": {
        "id": "SwCyiyCfy7y0"
      }
    },
    {
      "cell_type": "code",
      "source": [
        "# Add the diagnosis date to the main dataframe\n",
        "tweetsDf = tweetsDf.merge(diagnosisDatesDf, on = [\"author_id\"], how = \"left\")\n",
        "print(\"Shape after updating with diagnosis date:\", tweetsDf.shape)\n",
        "# Count the unmatched records\n",
        "print(\"Unmatched:\", tweetsDf[tweetsDf.diagnosis_date.isna()].shape[0])\n",
        "# Check\n",
        "tweetsDf.sample()"
      ],
      "metadata": {
        "colab": {
          "base_uri": "https://localhost:8080/",
          "height": 205
        },
        "id": "_IqCfq3QzGHi",
        "outputId": "0bad9bcf-d103-4b75-b286-d45c7c5960a4"
      },
      "execution_count": null,
      "outputs": [
        {
          "output_type": "stream",
          "name": "stdout",
          "text": [
            "Shape after updating with diagnosis date: (15542355, 16)\n",
            "Unmatched: 0\n"
          ]
        },
        {
          "output_type": "execute_result",
          "data": {
            "text/plain": [
              "                           id tweet_type referenced_tweet_type  \\\n",
              "11843367  1353096844461666304   timeline            replied_to   \n",
              "\n",
              "                  created_at lang    disorder           author_id  \\\n",
              "11843367 2021-01-23 21:46:41   en  depression  701871080001167360   \n",
              "\n",
              "                                                       text  \\\n",
              "11843367  @enhypeus @sianbffs someone got into a fs and ...   \n",
              "\n",
              "                                               cleaned_text  retweet_count  \\\n",
              "11843367  someone got into a fs and didn’t even know the...              0   \n",
              "\n",
              "          reply_count  like_count  quote_count              source  group  \\\n",
              "11843367            1           1            0  Twitter for iPhone      1   \n",
              "\n",
              "         diagnosis_date  \n",
              "11843367     2020-09-24  "
            ],
            "text/html": [
              "\n",
              "  <div id=\"df-56199359-6b8b-47e7-9e7a-0415022c1dcb\" class=\"colab-df-container\">\n",
              "    <div>\n",
              "<style scoped>\n",
              "    .dataframe tbody tr th:only-of-type {\n",
              "        vertical-align: middle;\n",
              "    }\n",
              "\n",
              "    .dataframe tbody tr th {\n",
              "        vertical-align: top;\n",
              "    }\n",
              "\n",
              "    .dataframe thead th {\n",
              "        text-align: right;\n",
              "    }\n",
              "</style>\n",
              "<table border=\"1\" class=\"dataframe\">\n",
              "  <thead>\n",
              "    <tr style=\"text-align: right;\">\n",
              "      <th></th>\n",
              "      <th>id</th>\n",
              "      <th>tweet_type</th>\n",
              "      <th>referenced_tweet_type</th>\n",
              "      <th>created_at</th>\n",
              "      <th>lang</th>\n",
              "      <th>disorder</th>\n",
              "      <th>author_id</th>\n",
              "      <th>text</th>\n",
              "      <th>cleaned_text</th>\n",
              "      <th>retweet_count</th>\n",
              "      <th>reply_count</th>\n",
              "      <th>like_count</th>\n",
              "      <th>quote_count</th>\n",
              "      <th>source</th>\n",
              "      <th>group</th>\n",
              "      <th>diagnosis_date</th>\n",
              "    </tr>\n",
              "  </thead>\n",
              "  <tbody>\n",
              "    <tr>\n",
              "      <th>11843367</th>\n",
              "      <td>1353096844461666304</td>\n",
              "      <td>timeline</td>\n",
              "      <td>replied_to</td>\n",
              "      <td>2021-01-23 21:46:41</td>\n",
              "      <td>en</td>\n",
              "      <td>depression</td>\n",
              "      <td>701871080001167360</td>\n",
              "      <td>@enhypeus @sianbffs someone got into a fs and ...</td>\n",
              "      <td>someone got into a fs and didn’t even know the...</td>\n",
              "      <td>0</td>\n",
              "      <td>1</td>\n",
              "      <td>1</td>\n",
              "      <td>0</td>\n",
              "      <td>Twitter for iPhone</td>\n",
              "      <td>1</td>\n",
              "      <td>2020-09-24</td>\n",
              "    </tr>\n",
              "  </tbody>\n",
              "</table>\n",
              "</div>\n",
              "    <div class=\"colab-df-buttons\">\n",
              "\n",
              "  <div class=\"colab-df-container\">\n",
              "    <button class=\"colab-df-convert\" onclick=\"convertToInteractive('df-56199359-6b8b-47e7-9e7a-0415022c1dcb')\"\n",
              "            title=\"Convert this dataframe to an interactive table.\"\n",
              "            style=\"display:none;\">\n",
              "\n",
              "  <svg xmlns=\"http://www.w3.org/2000/svg\" height=\"24px\" viewBox=\"0 -960 960 960\">\n",
              "    <path d=\"M120-120v-720h720v720H120Zm60-500h600v-160H180v160Zm220 220h160v-160H400v160Zm0 220h160v-160H400v160ZM180-400h160v-160H180v160Zm440 0h160v-160H620v160ZM180-180h160v-160H180v160Zm440 0h160v-160H620v160Z\"/>\n",
              "  </svg>\n",
              "    </button>\n",
              "\n",
              "  <style>\n",
              "    .colab-df-container {\n",
              "      display:flex;\n",
              "      gap: 12px;\n",
              "    }\n",
              "\n",
              "    .colab-df-convert {\n",
              "      background-color: #E8F0FE;\n",
              "      border: none;\n",
              "      border-radius: 50%;\n",
              "      cursor: pointer;\n",
              "      display: none;\n",
              "      fill: #1967D2;\n",
              "      height: 32px;\n",
              "      padding: 0 0 0 0;\n",
              "      width: 32px;\n",
              "    }\n",
              "\n",
              "    .colab-df-convert:hover {\n",
              "      background-color: #E2EBFA;\n",
              "      box-shadow: 0px 1px 2px rgba(60, 64, 67, 0.3), 0px 1px 3px 1px rgba(60, 64, 67, 0.15);\n",
              "      fill: #174EA6;\n",
              "    }\n",
              "\n",
              "    .colab-df-buttons div {\n",
              "      margin-bottom: 4px;\n",
              "    }\n",
              "\n",
              "    [theme=dark] .colab-df-convert {\n",
              "      background-color: #3B4455;\n",
              "      fill: #D2E3FC;\n",
              "    }\n",
              "\n",
              "    [theme=dark] .colab-df-convert:hover {\n",
              "      background-color: #434B5C;\n",
              "      box-shadow: 0px 1px 3px 1px rgba(0, 0, 0, 0.15);\n",
              "      filter: drop-shadow(0px 1px 2px rgba(0, 0, 0, 0.3));\n",
              "      fill: #FFFFFF;\n",
              "    }\n",
              "  </style>\n",
              "\n",
              "    <script>\n",
              "      const buttonEl =\n",
              "        document.querySelector('#df-56199359-6b8b-47e7-9e7a-0415022c1dcb button.colab-df-convert');\n",
              "      buttonEl.style.display =\n",
              "        google.colab.kernel.accessAllowed ? 'block' : 'none';\n",
              "\n",
              "      async function convertToInteractive(key) {\n",
              "        const element = document.querySelector('#df-56199359-6b8b-47e7-9e7a-0415022c1dcb');\n",
              "        const dataTable =\n",
              "          await google.colab.kernel.invokeFunction('convertToInteractive',\n",
              "                                                    [key], {});\n",
              "        if (!dataTable) return;\n",
              "\n",
              "        const docLinkHtml = 'Like what you see? Visit the ' +\n",
              "          '<a target=\"_blank\" href=https://colab.research.google.com/notebooks/data_table.ipynb>data table notebook</a>'\n",
              "          + ' to learn more about interactive tables.';\n",
              "        element.innerHTML = '';\n",
              "        dataTable['output_type'] = 'display_data';\n",
              "        await google.colab.output.renderOutput(dataTable, element);\n",
              "        const docLink = document.createElement('div');\n",
              "        docLink.innerHTML = docLinkHtml;\n",
              "        element.appendChild(docLink);\n",
              "      }\n",
              "    </script>\n",
              "  </div>\n",
              "\n",
              "\n",
              "    </div>\n",
              "  </div>\n"
            ],
            "application/vnd.google.colaboratory.intrinsic+json": {
              "type": "dataframe",
              "repr_error": "0"
            }
          },
          "metadata": {},
          "execution_count": 8
        }
      ]
    },
    {
      "cell_type": "markdown",
      "source": [
        "### Find and populate the treatment dates"
      ],
      "metadata": {
        "id": "f25-d28y2CsE"
      }
    },
    {
      "cell_type": "code",
      "source": [
        "# Add the anchor dates\n",
        "datesDir = r\"/content/drive/MyDrive/MRP/Mazin_Works/Project Docs/Data/Dates\"\n",
        "controlFilePath = os.path.join(datesDir, \"control_users_features_summary.json\")\n",
        "treatmentFilePath = os.path.join(datesDir, \"treatment_users_features_summary.json\")\n",
        "\n",
        "# Read the json data\n",
        "with open(controlFilePath, \"rb\") as f:\n",
        "    file = json.load(f)\n",
        "controlDf = pd.DataFrame(file).transpose().reset_index()\n",
        "controlDf[\"Group\"] = 0\n",
        "with open(treatmentFilePath, \"rb\") as f:\n",
        "    file = json.load(f)\n",
        "treatmentDf = pd.DataFrame(file).transpose().reset_index()\n",
        "treatmentDf[\"Group\"] = 1\n",
        "\n",
        "# Combine\n",
        "treatmentDatesDf = pd.concat([controlDf, treatmentDf], ignore_index = True)\n",
        "\n",
        "# Process\n",
        "treatmentDatesDf.rename(columns = {\"index\": \"author_id\", \"diagnose_date\": \"treatment_date\"}, inplace = True)\n",
        "\n",
        "# drop unnecessary columns\n",
        "colsToKeep = [\"author_id\", \"treatment_date\", \"Group\"]\n",
        "treatmentDatesDf = treatmentDatesDf[colsToKeep]\n",
        "\n",
        "# Fix the data types\n",
        "treatmentDatesDf[\"treatment_date\"] = pd.to_datetime(treatmentDatesDf[\"treatment_date\"])\n",
        "\n",
        "# Drop duplicates\n",
        "treatmentDatesDf.drop_duplicates()\n",
        "\n",
        "# Check\n",
        "print(\"Shape:\", treatmentDatesDf.shape)\n",
        "# Select the author with the minimum treatment date\n",
        "treatmentDatesDf = treatmentDatesDf.groupby([\"author_id\"]).treatment_date.min().reset_index()\n",
        "treatmentDatesDf.sample()"
      ],
      "metadata": {
        "colab": {
          "base_uri": "https://localhost:8080/",
          "height": 98
        },
        "id": "TX3x2nSzzaGO",
        "outputId": "bcd08aaf-53ce-4231-9054-7522983014eb"
      },
      "execution_count": null,
      "outputs": [
        {
          "output_type": "stream",
          "name": "stdout",
          "text": [
            "Shape: (8606, 3)\n"
          ]
        },
        {
          "output_type": "execute_result",
          "data": {
            "text/plain": [
              "      author_id treatment_date\n",
              "6103  388436664     2021-05-06"
            ],
            "text/html": [
              "\n",
              "  <div id=\"df-403e4717-996d-4bdf-995e-adc7041732ab\" class=\"colab-df-container\">\n",
              "    <div>\n",
              "<style scoped>\n",
              "    .dataframe tbody tr th:only-of-type {\n",
              "        vertical-align: middle;\n",
              "    }\n",
              "\n",
              "    .dataframe tbody tr th {\n",
              "        vertical-align: top;\n",
              "    }\n",
              "\n",
              "    .dataframe thead th {\n",
              "        text-align: right;\n",
              "    }\n",
              "</style>\n",
              "<table border=\"1\" class=\"dataframe\">\n",
              "  <thead>\n",
              "    <tr style=\"text-align: right;\">\n",
              "      <th></th>\n",
              "      <th>author_id</th>\n",
              "      <th>treatment_date</th>\n",
              "    </tr>\n",
              "  </thead>\n",
              "  <tbody>\n",
              "    <tr>\n",
              "      <th>6103</th>\n",
              "      <td>388436664</td>\n",
              "      <td>2021-05-06</td>\n",
              "    </tr>\n",
              "  </tbody>\n",
              "</table>\n",
              "</div>\n",
              "    <div class=\"colab-df-buttons\">\n",
              "\n",
              "  <div class=\"colab-df-container\">\n",
              "    <button class=\"colab-df-convert\" onclick=\"convertToInteractive('df-403e4717-996d-4bdf-995e-adc7041732ab')\"\n",
              "            title=\"Convert this dataframe to an interactive table.\"\n",
              "            style=\"display:none;\">\n",
              "\n",
              "  <svg xmlns=\"http://www.w3.org/2000/svg\" height=\"24px\" viewBox=\"0 -960 960 960\">\n",
              "    <path d=\"M120-120v-720h720v720H120Zm60-500h600v-160H180v160Zm220 220h160v-160H400v160Zm0 220h160v-160H400v160ZM180-400h160v-160H180v160Zm440 0h160v-160H620v160ZM180-180h160v-160H180v160Zm440 0h160v-160H620v160Z\"/>\n",
              "  </svg>\n",
              "    </button>\n",
              "\n",
              "  <style>\n",
              "    .colab-df-container {\n",
              "      display:flex;\n",
              "      gap: 12px;\n",
              "    }\n",
              "\n",
              "    .colab-df-convert {\n",
              "      background-color: #E8F0FE;\n",
              "      border: none;\n",
              "      border-radius: 50%;\n",
              "      cursor: pointer;\n",
              "      display: none;\n",
              "      fill: #1967D2;\n",
              "      height: 32px;\n",
              "      padding: 0 0 0 0;\n",
              "      width: 32px;\n",
              "    }\n",
              "\n",
              "    .colab-df-convert:hover {\n",
              "      background-color: #E2EBFA;\n",
              "      box-shadow: 0px 1px 2px rgba(60, 64, 67, 0.3), 0px 1px 3px 1px rgba(60, 64, 67, 0.15);\n",
              "      fill: #174EA6;\n",
              "    }\n",
              "\n",
              "    .colab-df-buttons div {\n",
              "      margin-bottom: 4px;\n",
              "    }\n",
              "\n",
              "    [theme=dark] .colab-df-convert {\n",
              "      background-color: #3B4455;\n",
              "      fill: #D2E3FC;\n",
              "    }\n",
              "\n",
              "    [theme=dark] .colab-df-convert:hover {\n",
              "      background-color: #434B5C;\n",
              "      box-shadow: 0px 1px 3px 1px rgba(0, 0, 0, 0.15);\n",
              "      filter: drop-shadow(0px 1px 2px rgba(0, 0, 0, 0.3));\n",
              "      fill: #FFFFFF;\n",
              "    }\n",
              "  </style>\n",
              "\n",
              "    <script>\n",
              "      const buttonEl =\n",
              "        document.querySelector('#df-403e4717-996d-4bdf-995e-adc7041732ab button.colab-df-convert');\n",
              "      buttonEl.style.display =\n",
              "        google.colab.kernel.accessAllowed ? 'block' : 'none';\n",
              "\n",
              "      async function convertToInteractive(key) {\n",
              "        const element = document.querySelector('#df-403e4717-996d-4bdf-995e-adc7041732ab');\n",
              "        const dataTable =\n",
              "          await google.colab.kernel.invokeFunction('convertToInteractive',\n",
              "                                                    [key], {});\n",
              "        if (!dataTable) return;\n",
              "\n",
              "        const docLinkHtml = 'Like what you see? Visit the ' +\n",
              "          '<a target=\"_blank\" href=https://colab.research.google.com/notebooks/data_table.ipynb>data table notebook</a>'\n",
              "          + ' to learn more about interactive tables.';\n",
              "        element.innerHTML = '';\n",
              "        dataTable['output_type'] = 'display_data';\n",
              "        await google.colab.output.renderOutput(dataTable, element);\n",
              "        const docLink = document.createElement('div');\n",
              "        docLink.innerHTML = docLinkHtml;\n",
              "        element.appendChild(docLink);\n",
              "      }\n",
              "    </script>\n",
              "  </div>\n",
              "\n",
              "\n",
              "    </div>\n",
              "  </div>\n"
            ],
            "application/vnd.google.colaboratory.intrinsic+json": {
              "type": "dataframe",
              "summary": "{\n  \"name\": \"treatmentDatesDf\",\n  \"rows\": 1,\n  \"fields\": [\n    {\n      \"column\": \"author_id\",\n      \"properties\": {\n        \"dtype\": \"string\",\n        \"num_unique_values\": 1,\n        \"samples\": [\n          \"388436664\"\n        ],\n        \"semantic_type\": \"\",\n        \"description\": \"\"\n      }\n    },\n    {\n      \"column\": \"treatment_date\",\n      \"properties\": {\n        \"dtype\": \"date\",\n        \"min\": \"2021-05-06 00:00:00\",\n        \"max\": \"2021-05-06 00:00:00\",\n        \"num_unique_values\": 1,\n        \"samples\": [\n          \"2021-05-06 00:00:00\"\n        ],\n        \"semantic_type\": \"\",\n        \"description\": \"\"\n      }\n    }\n  ]\n}"
            }
          },
          "metadata": {},
          "execution_count": 9
        }
      ]
    },
    {
      "cell_type": "code",
      "source": [
        "# Join the treatment dates with the main dataframe\n",
        "tweetsDf = tweetsDf.merge(treatmentDatesDf, on = [\"author_id\"], how = \"left\")\n",
        "print(\"Shape after adding the treatment dates\", tweetsDf.shape)\n",
        "# Check\n",
        "tweetsDf.sample()"
      ],
      "metadata": {
        "colab": {
          "base_uri": "https://localhost:8080/",
          "height": 205
        },
        "id": "Dr78D__Y2kG6",
        "outputId": "e1bf6788-8d30-4146-d4eb-3c8bd8534229"
      },
      "execution_count": null,
      "outputs": [
        {
          "output_type": "stream",
          "name": "stdout",
          "text": [
            "Shape after adding the treatment dates (15542355, 17)\n"
          ]
        },
        {
          "output_type": "execute_result",
          "data": {
            "text/plain": [
              "                          id tweet_type referenced_tweet_type  \\\n",
              "4254330  1431484812288741379   timeline            replied_to   \n",
              "\n",
              "                 created_at lang    disorder   author_id  \\\n",
              "4254330 2021-08-28 05:12:29   en  depression  3838035553   \n",
              "\n",
              "                                                      text  \\\n",
              "4254330  cant help but to compare, sobrang lunod ako sa...   \n",
              "\n",
              "                                              cleaned_text  retweet_count  \\\n",
              "4254330  cant help but to compare, sobrang lunod ako sa...              0   \n",
              "\n",
              "         reply_count  like_count  quote_count               source  group  \\\n",
              "4254330            0           0            0  Twitter for Android      0   \n",
              "\n",
              "        diagnosis_date treatment_date  \n",
              "4254330     2020-07-06     2021-12-01  "
            ],
            "text/html": [
              "\n",
              "  <div id=\"df-7c0ab1f4-d6d9-43ee-92db-ec3b07467451\" class=\"colab-df-container\">\n",
              "    <div>\n",
              "<style scoped>\n",
              "    .dataframe tbody tr th:only-of-type {\n",
              "        vertical-align: middle;\n",
              "    }\n",
              "\n",
              "    .dataframe tbody tr th {\n",
              "        vertical-align: top;\n",
              "    }\n",
              "\n",
              "    .dataframe thead th {\n",
              "        text-align: right;\n",
              "    }\n",
              "</style>\n",
              "<table border=\"1\" class=\"dataframe\">\n",
              "  <thead>\n",
              "    <tr style=\"text-align: right;\">\n",
              "      <th></th>\n",
              "      <th>id</th>\n",
              "      <th>tweet_type</th>\n",
              "      <th>referenced_tweet_type</th>\n",
              "      <th>created_at</th>\n",
              "      <th>lang</th>\n",
              "      <th>disorder</th>\n",
              "      <th>author_id</th>\n",
              "      <th>text</th>\n",
              "      <th>cleaned_text</th>\n",
              "      <th>retweet_count</th>\n",
              "      <th>reply_count</th>\n",
              "      <th>like_count</th>\n",
              "      <th>quote_count</th>\n",
              "      <th>source</th>\n",
              "      <th>group</th>\n",
              "      <th>diagnosis_date</th>\n",
              "      <th>treatment_date</th>\n",
              "    </tr>\n",
              "  </thead>\n",
              "  <tbody>\n",
              "    <tr>\n",
              "      <th>4254330</th>\n",
              "      <td>1431484812288741379</td>\n",
              "      <td>timeline</td>\n",
              "      <td>replied_to</td>\n",
              "      <td>2021-08-28 05:12:29</td>\n",
              "      <td>en</td>\n",
              "      <td>depression</td>\n",
              "      <td>3838035553</td>\n",
              "      <td>cant help but to compare, sobrang lunod ako sa...</td>\n",
              "      <td>cant help but to compare, sobrang lunod ako sa...</td>\n",
              "      <td>0</td>\n",
              "      <td>0</td>\n",
              "      <td>0</td>\n",
              "      <td>0</td>\n",
              "      <td>Twitter for Android</td>\n",
              "      <td>0</td>\n",
              "      <td>2020-07-06</td>\n",
              "      <td>2021-12-01</td>\n",
              "    </tr>\n",
              "  </tbody>\n",
              "</table>\n",
              "</div>\n",
              "    <div class=\"colab-df-buttons\">\n",
              "\n",
              "  <div class=\"colab-df-container\">\n",
              "    <button class=\"colab-df-convert\" onclick=\"convertToInteractive('df-7c0ab1f4-d6d9-43ee-92db-ec3b07467451')\"\n",
              "            title=\"Convert this dataframe to an interactive table.\"\n",
              "            style=\"display:none;\">\n",
              "\n",
              "  <svg xmlns=\"http://www.w3.org/2000/svg\" height=\"24px\" viewBox=\"0 -960 960 960\">\n",
              "    <path d=\"M120-120v-720h720v720H120Zm60-500h600v-160H180v160Zm220 220h160v-160H400v160Zm0 220h160v-160H400v160ZM180-400h160v-160H180v160Zm440 0h160v-160H620v160ZM180-180h160v-160H180v160Zm440 0h160v-160H620v160Z\"/>\n",
              "  </svg>\n",
              "    </button>\n",
              "\n",
              "  <style>\n",
              "    .colab-df-container {\n",
              "      display:flex;\n",
              "      gap: 12px;\n",
              "    }\n",
              "\n",
              "    .colab-df-convert {\n",
              "      background-color: #E8F0FE;\n",
              "      border: none;\n",
              "      border-radius: 50%;\n",
              "      cursor: pointer;\n",
              "      display: none;\n",
              "      fill: #1967D2;\n",
              "      height: 32px;\n",
              "      padding: 0 0 0 0;\n",
              "      width: 32px;\n",
              "    }\n",
              "\n",
              "    .colab-df-convert:hover {\n",
              "      background-color: #E2EBFA;\n",
              "      box-shadow: 0px 1px 2px rgba(60, 64, 67, 0.3), 0px 1px 3px 1px rgba(60, 64, 67, 0.15);\n",
              "      fill: #174EA6;\n",
              "    }\n",
              "\n",
              "    .colab-df-buttons div {\n",
              "      margin-bottom: 4px;\n",
              "    }\n",
              "\n",
              "    [theme=dark] .colab-df-convert {\n",
              "      background-color: #3B4455;\n",
              "      fill: #D2E3FC;\n",
              "    }\n",
              "\n",
              "    [theme=dark] .colab-df-convert:hover {\n",
              "      background-color: #434B5C;\n",
              "      box-shadow: 0px 1px 3px 1px rgba(0, 0, 0, 0.15);\n",
              "      filter: drop-shadow(0px 1px 2px rgba(0, 0, 0, 0.3));\n",
              "      fill: #FFFFFF;\n",
              "    }\n",
              "  </style>\n",
              "\n",
              "    <script>\n",
              "      const buttonEl =\n",
              "        document.querySelector('#df-7c0ab1f4-d6d9-43ee-92db-ec3b07467451 button.colab-df-convert');\n",
              "      buttonEl.style.display =\n",
              "        google.colab.kernel.accessAllowed ? 'block' : 'none';\n",
              "\n",
              "      async function convertToInteractive(key) {\n",
              "        const element = document.querySelector('#df-7c0ab1f4-d6d9-43ee-92db-ec3b07467451');\n",
              "        const dataTable =\n",
              "          await google.colab.kernel.invokeFunction('convertToInteractive',\n",
              "                                                    [key], {});\n",
              "        if (!dataTable) return;\n",
              "\n",
              "        const docLinkHtml = 'Like what you see? Visit the ' +\n",
              "          '<a target=\"_blank\" href=https://colab.research.google.com/notebooks/data_table.ipynb>data table notebook</a>'\n",
              "          + ' to learn more about interactive tables.';\n",
              "        element.innerHTML = '';\n",
              "        dataTable['output_type'] = 'display_data';\n",
              "        await google.colab.output.renderOutput(dataTable, element);\n",
              "        const docLink = document.createElement('div');\n",
              "        docLink.innerHTML = docLinkHtml;\n",
              "        element.appendChild(docLink);\n",
              "      }\n",
              "    </script>\n",
              "  </div>\n",
              "\n",
              "\n",
              "    </div>\n",
              "  </div>\n"
            ],
            "application/vnd.google.colaboratory.intrinsic+json": {
              "type": "dataframe",
              "repr_error": "0"
            }
          },
          "metadata": {},
          "execution_count": 10
        }
      ]
    },
    {
      "cell_type": "markdown",
      "source": [
        "### Add the music sessions"
      ],
      "metadata": {
        "id": "T6Fwx1dr3DtW"
      }
    },
    {
      "cell_type": "code",
      "source": [
        "# Ingest the music file\n",
        "musicFilePath = os.path.join(musicDir, \"music.csv\")\n",
        "musicDf = pd.read_csv(musicFilePath)\n",
        "# Fix the data types\n",
        "musicDf[\"created_at\"] = pd.to_datetime(musicDf[\"created_at\"]).dt.tz_convert(None)\n",
        "musicDf[\"author_id\"] = musicDf[\"author_id\"].astype(\"str\")\n",
        "# rename tweet_id to id\n",
        "musicDf.rename(columns = {\"tweet_id\": \"id\"}, inplace = True)\n",
        "# Keep only the tweet and music_id columns\n",
        "musicDf = musicDf[[\"id\", \"music_id\"]]\n",
        "# Drop duplicates\n",
        "musicDf.drop_duplicates(inplace = True)\n",
        "# Check\n",
        "print(\"Shape:\", musicDf.shape)\n",
        "musicDf.sample()\n",
        "# tweets with multiple music ids\n",
        "musicDf.groupby(\"id\").music_id.nunique().reset_index().query(\"music_id > 1\").shape"
      ],
      "metadata": {
        "colab": {
          "base_uri": "https://localhost:8080/"
        },
        "id": "R9gHduyt3JGf",
        "outputId": "f0a9448f-13e6-4c3c-b32c-50ff1e031225"
      },
      "execution_count": null,
      "outputs": [
        {
          "output_type": "stream",
          "name": "stdout",
          "text": [
            "Shape: (47497, 2)\n"
          ]
        },
        {
          "output_type": "stream",
          "name": "stderr",
          "text": [
            "<ipython-input-11-7410508ea0d8>:13: SettingWithCopyWarning: \n",
            "A value is trying to be set on a copy of a slice from a DataFrame\n",
            "\n",
            "See the caveats in the documentation: https://pandas.pydata.org/pandas-docs/stable/user_guide/indexing.html#returning-a-view-versus-a-copy\n",
            "  musicDf.drop_duplicates(inplace = True)\n"
          ]
        },
        {
          "output_type": "execute_result",
          "data": {
            "text/plain": [
              "(190, 2)"
            ]
          },
          "metadata": {},
          "execution_count": 11
        }
      ]
    },
    {
      "cell_type": "code",
      "source": [
        "# Update the main dataframe by adding music_id\n",
        "tweetsDf = tweetsDf.merge(musicDf, on = [\"id\"], how = \"left\")\n",
        "print(\"Shape after adding the music sessions\", tweetsDf.shape)\n",
        "# Update the unmatched music_id with 0\n",
        "tweetsDf[\"music_id\"] = tweetsDf[\"music_id\"].fillna(0)\n",
        "# Check\n",
        "tweetsDf.sample()"
      ],
      "metadata": {
        "id": "QRqekjzX46_1",
        "colab": {
          "base_uri": "https://localhost:8080/",
          "height": 153
        },
        "outputId": "9edc9664-623b-4c27-a5b4-a5e5ee71a362"
      },
      "execution_count": null,
      "outputs": [
        {
          "output_type": "stream",
          "name": "stdout",
          "text": [
            "Shape after adding the music sessions (15542629, 18)\n"
          ]
        },
        {
          "output_type": "execute_result",
          "data": {
            "text/plain": [
              "                           id tweet_type referenced_tweet_type  \\\n",
              "10042278  1445676059555348488   timeline            replied_to   \n",
              "\n",
              "                  created_at lang disorder   author_id  \\\n",
              "10042278 2021-10-06 09:03:26   en  anxiety  4230507676   \n",
              "\n",
              "                            text cleaned_text  retweet_count  reply_count  \\\n",
              "10042278  @BookwormVaught Sweet!       sweet!              0            0   \n",
              "\n",
              "          like_count  quote_count              source  group diagnosis_date  \\\n",
              "10042278           0            0  Twitter for iPhone      1     2020-05-06   \n",
              "\n",
              "         treatment_date  music_id  \n",
              "10042278     2021-11-21       0.0  "
            ],
            "text/html": [
              "\n",
              "  <div id=\"df-d634aea5-7979-43eb-870d-6adc13358d35\" class=\"colab-df-container\">\n",
              "    <div>\n",
              "<style scoped>\n",
              "    .dataframe tbody tr th:only-of-type {\n",
              "        vertical-align: middle;\n",
              "    }\n",
              "\n",
              "    .dataframe tbody tr th {\n",
              "        vertical-align: top;\n",
              "    }\n",
              "\n",
              "    .dataframe thead th {\n",
              "        text-align: right;\n",
              "    }\n",
              "</style>\n",
              "<table border=\"1\" class=\"dataframe\">\n",
              "  <thead>\n",
              "    <tr style=\"text-align: right;\">\n",
              "      <th></th>\n",
              "      <th>id</th>\n",
              "      <th>tweet_type</th>\n",
              "      <th>referenced_tweet_type</th>\n",
              "      <th>created_at</th>\n",
              "      <th>lang</th>\n",
              "      <th>disorder</th>\n",
              "      <th>author_id</th>\n",
              "      <th>text</th>\n",
              "      <th>cleaned_text</th>\n",
              "      <th>retweet_count</th>\n",
              "      <th>reply_count</th>\n",
              "      <th>like_count</th>\n",
              "      <th>quote_count</th>\n",
              "      <th>source</th>\n",
              "      <th>group</th>\n",
              "      <th>diagnosis_date</th>\n",
              "      <th>treatment_date</th>\n",
              "      <th>music_id</th>\n",
              "    </tr>\n",
              "  </thead>\n",
              "  <tbody>\n",
              "    <tr>\n",
              "      <th>10042278</th>\n",
              "      <td>1445676059555348488</td>\n",
              "      <td>timeline</td>\n",
              "      <td>replied_to</td>\n",
              "      <td>2021-10-06 09:03:26</td>\n",
              "      <td>en</td>\n",
              "      <td>anxiety</td>\n",
              "      <td>4230507676</td>\n",
              "      <td>@BookwormVaught Sweet!</td>\n",
              "      <td>sweet!</td>\n",
              "      <td>0</td>\n",
              "      <td>0</td>\n",
              "      <td>0</td>\n",
              "      <td>0</td>\n",
              "      <td>Twitter for iPhone</td>\n",
              "      <td>1</td>\n",
              "      <td>2020-05-06</td>\n",
              "      <td>2021-11-21</td>\n",
              "      <td>0.0</td>\n",
              "    </tr>\n",
              "  </tbody>\n",
              "</table>\n",
              "</div>\n",
              "    <div class=\"colab-df-buttons\">\n",
              "\n",
              "  <div class=\"colab-df-container\">\n",
              "    <button class=\"colab-df-convert\" onclick=\"convertToInteractive('df-d634aea5-7979-43eb-870d-6adc13358d35')\"\n",
              "            title=\"Convert this dataframe to an interactive table.\"\n",
              "            style=\"display:none;\">\n",
              "\n",
              "  <svg xmlns=\"http://www.w3.org/2000/svg\" height=\"24px\" viewBox=\"0 -960 960 960\">\n",
              "    <path d=\"M120-120v-720h720v720H120Zm60-500h600v-160H180v160Zm220 220h160v-160H400v160Zm0 220h160v-160H400v160ZM180-400h160v-160H180v160Zm440 0h160v-160H620v160ZM180-180h160v-160H180v160Zm440 0h160v-160H620v160Z\"/>\n",
              "  </svg>\n",
              "    </button>\n",
              "\n",
              "  <style>\n",
              "    .colab-df-container {\n",
              "      display:flex;\n",
              "      gap: 12px;\n",
              "    }\n",
              "\n",
              "    .colab-df-convert {\n",
              "      background-color: #E8F0FE;\n",
              "      border: none;\n",
              "      border-radius: 50%;\n",
              "      cursor: pointer;\n",
              "      display: none;\n",
              "      fill: #1967D2;\n",
              "      height: 32px;\n",
              "      padding: 0 0 0 0;\n",
              "      width: 32px;\n",
              "    }\n",
              "\n",
              "    .colab-df-convert:hover {\n",
              "      background-color: #E2EBFA;\n",
              "      box-shadow: 0px 1px 2px rgba(60, 64, 67, 0.3), 0px 1px 3px 1px rgba(60, 64, 67, 0.15);\n",
              "      fill: #174EA6;\n",
              "    }\n",
              "\n",
              "    .colab-df-buttons div {\n",
              "      margin-bottom: 4px;\n",
              "    }\n",
              "\n",
              "    [theme=dark] .colab-df-convert {\n",
              "      background-color: #3B4455;\n",
              "      fill: #D2E3FC;\n",
              "    }\n",
              "\n",
              "    [theme=dark] .colab-df-convert:hover {\n",
              "      background-color: #434B5C;\n",
              "      box-shadow: 0px 1px 3px 1px rgba(0, 0, 0, 0.15);\n",
              "      filter: drop-shadow(0px 1px 2px rgba(0, 0, 0, 0.3));\n",
              "      fill: #FFFFFF;\n",
              "    }\n",
              "  </style>\n",
              "\n",
              "    <script>\n",
              "      const buttonEl =\n",
              "        document.querySelector('#df-d634aea5-7979-43eb-870d-6adc13358d35 button.colab-df-convert');\n",
              "      buttonEl.style.display =\n",
              "        google.colab.kernel.accessAllowed ? 'block' : 'none';\n",
              "\n",
              "      async function convertToInteractive(key) {\n",
              "        const element = document.querySelector('#df-d634aea5-7979-43eb-870d-6adc13358d35');\n",
              "        const dataTable =\n",
              "          await google.colab.kernel.invokeFunction('convertToInteractive',\n",
              "                                                    [key], {});\n",
              "        if (!dataTable) return;\n",
              "\n",
              "        const docLinkHtml = 'Like what you see? Visit the ' +\n",
              "          '<a target=\"_blank\" href=https://colab.research.google.com/notebooks/data_table.ipynb>data table notebook</a>'\n",
              "          + ' to learn more about interactive tables.';\n",
              "        element.innerHTML = '';\n",
              "        dataTable['output_type'] = 'display_data';\n",
              "        await google.colab.output.renderOutput(dataTable, element);\n",
              "        const docLink = document.createElement('div');\n",
              "        docLink.innerHTML = docLinkHtml;\n",
              "        element.appendChild(docLink);\n",
              "      }\n",
              "    </script>\n",
              "  </div>\n",
              "\n",
              "\n",
              "    </div>\n",
              "  </div>\n"
            ],
            "application/vnd.google.colaboratory.intrinsic+json": {
              "type": "dataframe",
              "repr_error": "0"
            }
          },
          "metadata": {},
          "execution_count": 12
        }
      ]
    },
    {
      "cell_type": "code",
      "source": [
        "# Update the tweet type, set it to \"treatment\" wherever the music_id is not 0\n",
        "tweetsDf.loc[tweetsDf[\"music_id\"] != 0, \"tweet_type\"] = \"treatment\"\n",
        "# Check\n",
        "tweetsDf.sample()"
      ],
      "metadata": {
        "id": "fXSpkJJ3Plyq",
        "colab": {
          "base_uri": "https://localhost:8080/",
          "height": 170
        },
        "outputId": "b29f2bae-d8ab-4e8b-ecc5-4ced95b7aa32"
      },
      "execution_count": null,
      "outputs": [
        {
          "output_type": "execute_result",
          "data": {
            "text/plain": [
              "                           id tweet_type referenced_tweet_type  \\\n",
              "13339364  1393929230401130498   timeline            replied_to   \n",
              "\n",
              "                  created_at lang disorder author_id  \\\n",
              "13339364 2021-05-16 14:00:01   en     ptsd  19553548   \n",
              "\n",
              "                                                       text  \\\n",
              "13339364  @RoyalAirForce @RAFMusic Wing Commander Guy Gi...   \n",
              "\n",
              "                                               cleaned_text  retweet_count  \\\n",
              "13339364  wing commander guy gibson (in door of aircraft...             11   \n",
              "\n",
              "          reply_count  like_count  quote_count           source  group  \\\n",
              "13339364            1          40            1  Twitter Web App      1   \n",
              "\n",
              "         diagnosis_date treatment_date  music_id  \n",
              "13339364     2021-03-26     2020-11-22       0.0  "
            ],
            "text/html": [
              "\n",
              "  <div id=\"df-1db45a8c-9667-40d6-bd6c-36c90aa5a3ca\" class=\"colab-df-container\">\n",
              "    <div>\n",
              "<style scoped>\n",
              "    .dataframe tbody tr th:only-of-type {\n",
              "        vertical-align: middle;\n",
              "    }\n",
              "\n",
              "    .dataframe tbody tr th {\n",
              "        vertical-align: top;\n",
              "    }\n",
              "\n",
              "    .dataframe thead th {\n",
              "        text-align: right;\n",
              "    }\n",
              "</style>\n",
              "<table border=\"1\" class=\"dataframe\">\n",
              "  <thead>\n",
              "    <tr style=\"text-align: right;\">\n",
              "      <th></th>\n",
              "      <th>id</th>\n",
              "      <th>tweet_type</th>\n",
              "      <th>referenced_tweet_type</th>\n",
              "      <th>created_at</th>\n",
              "      <th>lang</th>\n",
              "      <th>disorder</th>\n",
              "      <th>author_id</th>\n",
              "      <th>text</th>\n",
              "      <th>cleaned_text</th>\n",
              "      <th>retweet_count</th>\n",
              "      <th>reply_count</th>\n",
              "      <th>like_count</th>\n",
              "      <th>quote_count</th>\n",
              "      <th>source</th>\n",
              "      <th>group</th>\n",
              "      <th>diagnosis_date</th>\n",
              "      <th>treatment_date</th>\n",
              "      <th>music_id</th>\n",
              "    </tr>\n",
              "  </thead>\n",
              "  <tbody>\n",
              "    <tr>\n",
              "      <th>13339364</th>\n",
              "      <td>1393929230401130498</td>\n",
              "      <td>timeline</td>\n",
              "      <td>replied_to</td>\n",
              "      <td>2021-05-16 14:00:01</td>\n",
              "      <td>en</td>\n",
              "      <td>ptsd</td>\n",
              "      <td>19553548</td>\n",
              "      <td>@RoyalAirForce @RAFMusic Wing Commander Guy Gi...</td>\n",
              "      <td>wing commander guy gibson (in door of aircraft...</td>\n",
              "      <td>11</td>\n",
              "      <td>1</td>\n",
              "      <td>40</td>\n",
              "      <td>1</td>\n",
              "      <td>Twitter Web App</td>\n",
              "      <td>1</td>\n",
              "      <td>2021-03-26</td>\n",
              "      <td>2020-11-22</td>\n",
              "      <td>0.0</td>\n",
              "    </tr>\n",
              "  </tbody>\n",
              "</table>\n",
              "</div>\n",
              "    <div class=\"colab-df-buttons\">\n",
              "\n",
              "  <div class=\"colab-df-container\">\n",
              "    <button class=\"colab-df-convert\" onclick=\"convertToInteractive('df-1db45a8c-9667-40d6-bd6c-36c90aa5a3ca')\"\n",
              "            title=\"Convert this dataframe to an interactive table.\"\n",
              "            style=\"display:none;\">\n",
              "\n",
              "  <svg xmlns=\"http://www.w3.org/2000/svg\" height=\"24px\" viewBox=\"0 -960 960 960\">\n",
              "    <path d=\"M120-120v-720h720v720H120Zm60-500h600v-160H180v160Zm220 220h160v-160H400v160Zm0 220h160v-160H400v160ZM180-400h160v-160H180v160Zm440 0h160v-160H620v160ZM180-180h160v-160H180v160Zm440 0h160v-160H620v160Z\"/>\n",
              "  </svg>\n",
              "    </button>\n",
              "\n",
              "  <style>\n",
              "    .colab-df-container {\n",
              "      display:flex;\n",
              "      gap: 12px;\n",
              "    }\n",
              "\n",
              "    .colab-df-convert {\n",
              "      background-color: #E8F0FE;\n",
              "      border: none;\n",
              "      border-radius: 50%;\n",
              "      cursor: pointer;\n",
              "      display: none;\n",
              "      fill: #1967D2;\n",
              "      height: 32px;\n",
              "      padding: 0 0 0 0;\n",
              "      width: 32px;\n",
              "    }\n",
              "\n",
              "    .colab-df-convert:hover {\n",
              "      background-color: #E2EBFA;\n",
              "      box-shadow: 0px 1px 2px rgba(60, 64, 67, 0.3), 0px 1px 3px 1px rgba(60, 64, 67, 0.15);\n",
              "      fill: #174EA6;\n",
              "    }\n",
              "\n",
              "    .colab-df-buttons div {\n",
              "      margin-bottom: 4px;\n",
              "    }\n",
              "\n",
              "    [theme=dark] .colab-df-convert {\n",
              "      background-color: #3B4455;\n",
              "      fill: #D2E3FC;\n",
              "    }\n",
              "\n",
              "    [theme=dark] .colab-df-convert:hover {\n",
              "      background-color: #434B5C;\n",
              "      box-shadow: 0px 1px 3px 1px rgba(0, 0, 0, 0.15);\n",
              "      filter: drop-shadow(0px 1px 2px rgba(0, 0, 0, 0.3));\n",
              "      fill: #FFFFFF;\n",
              "    }\n",
              "  </style>\n",
              "\n",
              "    <script>\n",
              "      const buttonEl =\n",
              "        document.querySelector('#df-1db45a8c-9667-40d6-bd6c-36c90aa5a3ca button.colab-df-convert');\n",
              "      buttonEl.style.display =\n",
              "        google.colab.kernel.accessAllowed ? 'block' : 'none';\n",
              "\n",
              "      async function convertToInteractive(key) {\n",
              "        const element = document.querySelector('#df-1db45a8c-9667-40d6-bd6c-36c90aa5a3ca');\n",
              "        const dataTable =\n",
              "          await google.colab.kernel.invokeFunction('convertToInteractive',\n",
              "                                                    [key], {});\n",
              "        if (!dataTable) return;\n",
              "\n",
              "        const docLinkHtml = 'Like what you see? Visit the ' +\n",
              "          '<a target=\"_blank\" href=https://colab.research.google.com/notebooks/data_table.ipynb>data table notebook</a>'\n",
              "          + ' to learn more about interactive tables.';\n",
              "        element.innerHTML = '';\n",
              "        dataTable['output_type'] = 'display_data';\n",
              "        await google.colab.output.renderOutput(dataTable, element);\n",
              "        const docLink = document.createElement('div');\n",
              "        docLink.innerHTML = docLinkHtml;\n",
              "        element.appendChild(docLink);\n",
              "      }\n",
              "    </script>\n",
              "  </div>\n",
              "\n",
              "\n",
              "    </div>\n",
              "  </div>\n"
            ],
            "application/vnd.google.colaboratory.intrinsic+json": {
              "type": "dataframe",
              "repr_error": "0"
            }
          },
          "metadata": {},
          "execution_count": 13
        }
      ]
    },
    {
      "cell_type": "markdown",
      "source": [
        "### Add Demographics\n",
        "Before running this part make sure the demographics pipeline was run and all 3 demographics files were created successfully"
      ],
      "metadata": {
        "id": "PvmftDlQJOv3"
      }
    },
    {
      "cell_type": "code",
      "source": [
        "# Read the demographics user files\n",
        "ageDf = pd.read_pickle(os.path.join(demographicsDir, \"authorAge.pickle\"))\n",
        "genderDf = pd.read_pickle(os.path.join(demographicsDir, \"authorGender.pickle\"))\n",
        "eduLevelDf = pd.read_pickle(os.path.join(demographicsDir, \"authorEducationLevel.pickle\"))\n",
        "eduLevelDf.rename(columns = {\"ari_grade\": \"edu_level\"}, inplace = True)\n",
        "# Check\n",
        "print(\"Age df Shape:\", ageDf.shape)\n",
        "print(\"Gender df Shape:\", genderDf.shape)\n",
        "print(\"Education Level df Shape:\", eduLevelDf.shape)"
      ],
      "metadata": {
        "colab": {
          "base_uri": "https://localhost:8080/"
        },
        "id": "pyvHYhgTJTho",
        "outputId": "b1706ec4-a00a-4bef-e6c1-38fbbc463459"
      },
      "execution_count": null,
      "outputs": [
        {
          "output_type": "stream",
          "name": "stdout",
          "text": [
            "Age df Shape: (6536, 30)\n",
            "Gender df Shape: (6536, 29)\n",
            "Education Level df Shape: (6580, 6)\n"
          ]
        }
      ]
    },
    {
      "cell_type": "code",
      "source": [
        "# Check if the columns exist\n",
        "if set([\"age_group\", \"gender\", \"edu_level\"]).issubset(set(tweetsDf.columns)):\n",
        "  # drop & update\n",
        "  # Merge the demographics data with the tweetsDf\n",
        "  tweetsDf = tweetsDf.merge(ageDf[[\"author_id\", \"age_group\"]], on = [\"author_id\"], how = \"left\")\n",
        "  tweetsDf = tweetsDf.merge(genderDf[[\"author_id\", \"gender\"]], on = [\"author_id\"], how = \"left\")\n",
        "  tweetsDf = tweetsDf.merge(eduLevelDf[[\"author_id\", \"edu_level\"]], on = [\"author_id\"], how = \"left\")\n",
        "  tweetsDf.drop([\"age_group\", \"gender\", \"edu_level\"], axis = 1, inplace = True)\n",
        "else: # Update\n",
        "  # Merge the demographics data with the tweetsDf\n",
        "  tweetsDf = tweetsDf.merge(ageDf[[\"author_id\", \"age_group\"]], on = [\"author_id\"], how = \"left\")\n",
        "  tweetsDf = tweetsDf.merge(genderDf[[\"author_id\", \"gender\"]], on = [\"author_id\"], how = \"left\")\n",
        "  tweetsDf = tweetsDf.merge(eduLevelDf[[\"author_id\", \"edu_level\"]], on = [\"author_id\"], how = \"left\")\n",
        "# Check\n",
        "print(\"Shape after adding the demographics\", tweetsDf.shape)"
      ],
      "metadata": {
        "colab": {
          "base_uri": "https://localhost:8080/"
        },
        "id": "nF9soOBSKMSI",
        "outputId": "b1a273a0-280f-4691-c586-bf30e7a1a05d"
      },
      "execution_count": null,
      "outputs": [
        {
          "output_type": "stream",
          "name": "stdout",
          "text": [
            "Shape after adding the demographics (15542629, 27)\n"
          ]
        }
      ]
    },
    {
      "cell_type": "markdown",
      "source": [
        "### TensiStrenght Score\n",
        "- Run the TensiStrenght Pipeline on timeline tweets with text\n",
        "- Make sure the TensiStrength pipleline generated the files successfully before running this part"
      ],
      "metadata": {
        "id": "DqH-yLzXORBd"
      }
    },
    {
      "cell_type": "code",
      "source": [
        "# Read the tensiStrenght files (Depression)\n",
        "depressionWithTensiDf = pd.read_pickle(os.path.join(tensiStrenghtDir, \"depressionFullWithTensiScore.pickle\"))\n",
        "print(\"Shape:\", depressionWithTensiDf.shape)\n",
        "# Select the required columns only\n",
        "depressionWithTensiDf = depressionWithTensiDf[[\"id\", \"author_id\", \"relax_score_org\", \"stress_score_org\", \"relax_score\", \"stress_score\", \"combined_score\"]]\n",
        "\n",
        "# Read the tensiStrenght files (Anxiety)\n",
        "anxietyWithTensiDf = pd.read_pickle(os.path.join(tensiStrenghtDir, \"anxietyFullWithTensiScore.pickle\"))\n",
        "print(\"Shape:\", anxietyWithTensiDf.shape)\n",
        "# Select the required columns only\n",
        "anxietyWithTensiDf = anxietyWithTensiDf[[\"id\", \"author_id\", \"relax_score_org\", \"stress_score_org\", \"relax_score\", \"stress_score\", \"combined_score\"]]\n",
        "\n",
        "# Read the tensiStrenght files (PTSD)\n",
        "ptsdWithTensiDf = pd.read_pickle(os.path.join(tensiStrenghtDir, \"ptsdFullWithTensiScore.pickle\"))\n",
        "print(\"Shape:\", ptsdWithTensiDf.shape)\n",
        "# Select the required columns only\n",
        "ptsdWithTensiDf = ptsdWithTensiDf[[\"id\", \"author_id\", \"relax_score_org\", \"stress_score_org\", \"relax_score\", \"stress_score\", \"combined_score\"]]\n",
        "\n",
        "# Combine the anxiety, depression, and PTSD TensiStrenght dataframes and remove duplicates based on id\n",
        "tensiStrenghtDf = pd.concat([anxietyWithTensiDf, depressionWithTensiDf, ptsdWithTensiDf]) #, missingWithTensiDf\n",
        "tensiStrenghtDf.drop_duplicates(subset = [\"id\"], inplace = True)\n",
        "print(\"Tensi df Shape:\", tensiStrenghtDf.shape)\n",
        "\n",
        "# Merge with tweetsDf based on id\n",
        "cols = [\"id\", \"relax_score_org\", \"stress_score_org\", \"relax_score\", \"stress_score\", \"combined_score\"]\n",
        "# Check if the columns exist in the dataframe\n",
        "if set(cols).issubset(set(tweetsDf.columns)):\n",
        "  # drop\n",
        "  tweetsDf.drop([\"relax_score_org\", \"stress_score_org\", \"relax_score\", \"stress_score\", \"combined_score\"], axis = 1, inplace = True)\n",
        "else: # Update\n",
        "  tweetsDf = tweetsDf.merge(tensiStrenghtDf[cols], on = [\"id\"], how = \"left\")\n",
        "  print(\"Shape of tweets df after adding the tensiStrenght score\", tweetsDf.shape)"
      ],
      "metadata": {
        "colab": {
          "base_uri": "https://localhost:8080/"
        },
        "id": "rtwIbCE2OUVc",
        "outputId": "6aaba49f-18fc-4e3b-bf41-3d816f013b16"
      },
      "execution_count": null,
      "outputs": [
        {
          "output_type": "stream",
          "name": "stdout",
          "text": [
            "Shape: (7272947, 28)\n",
            "Shape: (3319097, 28)\n",
            "Shape: (2930285, 28)\n",
            "Tensi df Shape: (13522081, 7)\n",
            "Shape of tweets df after adding the tensiStrenght score (15542629, 26)\n"
          ]
        }
      ]
    },
    {
      "cell_type": "markdown",
      "source": [
        "#### Validate"
      ],
      "metadata": {
        "id": "r5zoslYZoroE"
      }
    },
    {
      "cell_type": "code",
      "source": [
        "# Find anxiety/depression/PTSD tweets with no score\n",
        "missingTensiDf = tweetsDf[(tweetsDf.disorder.isin([\"depression\", \"anxiety\", \"ptsd\"])) &\n",
        "(tweetsDf.combined_score.isna()) &\n",
        "(tweetsDf.lang == \"en\") &\n",
        "(tweetsDf.cleaned_text.notna())]\n",
        "\n",
        "missingCount = missingTensiDf.shape[0]\n",
        "print(\"Missing Tensi scores:\", missingCount)\n",
        "\n",
        "# Pickle the resulting dataframe\n",
        "if missingCount > 0:\n",
        "  fileName = os.path.join(tensiStrenghtDir, \"missingTensiDf.pickle\")\n",
        "  missingTensiDf.to_pickle(fileName)\n",
        "  # Report\n",
        "  print(\"Shape of the missing Tensi scores df:\", missingTensiDf.shape)\n",
        "  missingTensiDf.sample()"
      ],
      "metadata": {
        "colab": {
          "base_uri": "https://localhost:8080/"
        },
        "id": "vH-vCzymQ0JN",
        "outputId": "7ce91f6d-2cc3-455e-f24f-38ace0434368"
      },
      "execution_count": null,
      "outputs": [
        {
          "output_type": "stream",
          "name": "stdout",
          "text": [
            "Missing Tensi scores: 0\n"
          ]
        }
      ]
    },
    {
      "cell_type": "markdown",
      "source": [
        "### User/Authors Info"
      ],
      "metadata": {
        "id": "PIp383GULN9b"
      }
    },
    {
      "cell_type": "code",
      "source": [
        "# Read the data\n",
        "controlUsers = pd.read_csv(os.path.join(authorsDir, \"authors_control.csv\"))\n",
        "# Add the group column\n",
        "controlUsers[\"group\"] = 0\n",
        "print(\"Control users shape:\", controlUsers.shape)\n",
        "treatmentUsers = pd.read_csv(os.path.join(authorsDir, \"authors_treatment.csv\"))\n",
        "treatmentUsers[\"group\"] = 1\n",
        "print(\"Treatment users shape:\", treatmentUsers.shape)\n",
        "\n",
        "# Combine\n",
        "usersDf = pd.concat([controlUsers, treatmentUsers])\n",
        "\n",
        "# Remove the unnecessary columns\n",
        "usersDf.drop([\"anonymized_id\", \"matched_author_count\", \"matched_author_ids\", \"location\", \"username\"], axis = 1, inplace = True)\n",
        "\n",
        "# Fix the datatypes\n",
        "usersDf[\"created_at\"] = pd.to_datetime(usersDf[\"created_at\"]).dt.tz_localize(None)\n",
        "# find the account age\n",
        "usersDf[\"account_age\"] = (pd.to_datetime(\"today\") - usersDf[\"created_at\"]).dt.days/365.0\n",
        "# Fill na\n",
        "usersDf[\"account_age\"].fillna(0, inplace = True)\n",
        "toFill = [\"followers_count\", \"following_count\", \"tweet_count\"]\n",
        "# Fill and convert to int\n",
        "usersDf[toFill] = usersDf[toFill].fillna(0)\n",
        "usersDf[\"followers_count\"] = usersDf[\"followers_count\"].astype(\"int64\")\n",
        "usersDf[\"following_count\"] = usersDf[\"following_count\"].astype(\"int64\")\n",
        "usersDf[\"tweet_count\"] = usersDf[\"tweet_count\"].astype(\"int64\")\n",
        "\n",
        "# Fill the rest of columns with nothing\n",
        "usersDf.fillna(\"\", inplace = True)\n",
        "\n",
        "# find the length of the description field\n",
        "usersDf[\"description_len\"] = usersDf[\"description\"].apply(lambda x: len(x.split()))\n",
        "\n",
        "# Reorganize the columns\n",
        "reOrg = ['id', 'created_at', \"account_age\", 'verified', 'name', 'description', \"description_len\", 'disorder', 'group', 'followers_count', 'following_count', 'tweet_count']\n",
        "usersDf = usersDf[reOrg]\n",
        "# Rename id to author_id\n",
        "usersDf.rename({\"id\":\"author_id\", \"created_at\": \"author_since\"}, axis = 1, inplace = True)\n",
        "# Change the author_id data type to str\n",
        "usersDf[\"author_id\"] = usersDf[\"author_id\"].astype(\"str\")\n",
        "# Check\n",
        "print(\"Full dataset shape:\", usersDf.shape)"
      ],
      "metadata": {
        "colab": {
          "base_uri": "https://localhost:8080/"
        },
        "id": "Od5BUIYRLQkH",
        "outputId": "ab6cfa4f-5a51-4dca-ab28-ae924b8b5a75"
      },
      "execution_count": null,
      "outputs": [
        {
          "output_type": "stream",
          "name": "stdout",
          "text": [
            "Control users shape: (4362, 16)\n",
            "Treatment users shape: (2251, 16)\n",
            "Full dataset shape: (6613, 12)\n"
          ]
        }
      ]
    },
    {
      "cell_type": "code",
      "source": [
        "# Add the user info to tweetsDf\n",
        "tweetsDf = tweetsDf.merge(usersDf[[\"author_id\", \"author_since\"]], on = [\"author_id\"], how = \"left\")\n",
        "print(\"Shape after adding the user info\", tweetsDf.shape)\n",
        "# Check\n",
        "tweetsDf.sample()"
      ],
      "metadata": {
        "colab": {
          "base_uri": "https://localhost:8080/",
          "height": 217
        },
        "id": "4JKl5VgeL1U-",
        "outputId": "c4807c7b-d454-45d4-9723-5363be5be490"
      },
      "execution_count": null,
      "outputs": [
        {
          "output_type": "stream",
          "name": "stdout",
          "text": [
            "Shape after adding the user info (15542629, 27)\n"
          ]
        },
        {
          "output_type": "execute_result",
          "data": {
            "text/plain": [
              "                           id tweet_type referenced_tweet_type  \\\n",
              "15116839  1321871917721264128   timeline            replied_to   \n",
              "\n",
              "                  created_at lang disorder  author_id  \\\n",
              "15116839 2020-10-29 17:49:59   en  bipolar  294576982   \n",
              "\n",
              "                                                      text  \\\n",
              "15116839  @ABingham93 aye theyre more solid than ma hand 😂   \n",
              "\n",
              "                                  cleaned_text  retweet_count  ...  music_id  \\\n",
              "15116839  aye theyre more solid than ma hand 😂              0  ...       0.0   \n",
              "\n",
              "          age_group  gender                edu_level  relax_score_org  \\\n",
              "15116839      Gen-Z    Male  Middle/Elemntary School              NaN   \n",
              "\n",
              "         stress_score_org relax_score  stress_score combined_score  \\\n",
              "15116839              NaN         NaN           NaN            NaN   \n",
              "\n",
              "                author_since  \n",
              "15116839 2011-05-07 07:55:07  \n",
              "\n",
              "[1 rows x 27 columns]"
            ],
            "text/html": [
              "\n",
              "  <div id=\"df-0f48143c-2b43-431e-91ad-14351b9be921\" class=\"colab-df-container\">\n",
              "    <div>\n",
              "<style scoped>\n",
              "    .dataframe tbody tr th:only-of-type {\n",
              "        vertical-align: middle;\n",
              "    }\n",
              "\n",
              "    .dataframe tbody tr th {\n",
              "        vertical-align: top;\n",
              "    }\n",
              "\n",
              "    .dataframe thead th {\n",
              "        text-align: right;\n",
              "    }\n",
              "</style>\n",
              "<table border=\"1\" class=\"dataframe\">\n",
              "  <thead>\n",
              "    <tr style=\"text-align: right;\">\n",
              "      <th></th>\n",
              "      <th>id</th>\n",
              "      <th>tweet_type</th>\n",
              "      <th>referenced_tweet_type</th>\n",
              "      <th>created_at</th>\n",
              "      <th>lang</th>\n",
              "      <th>disorder</th>\n",
              "      <th>author_id</th>\n",
              "      <th>text</th>\n",
              "      <th>cleaned_text</th>\n",
              "      <th>retweet_count</th>\n",
              "      <th>...</th>\n",
              "      <th>music_id</th>\n",
              "      <th>age_group</th>\n",
              "      <th>gender</th>\n",
              "      <th>edu_level</th>\n",
              "      <th>relax_score_org</th>\n",
              "      <th>stress_score_org</th>\n",
              "      <th>relax_score</th>\n",
              "      <th>stress_score</th>\n",
              "      <th>combined_score</th>\n",
              "      <th>author_since</th>\n",
              "    </tr>\n",
              "  </thead>\n",
              "  <tbody>\n",
              "    <tr>\n",
              "      <th>15116839</th>\n",
              "      <td>1321871917721264128</td>\n",
              "      <td>timeline</td>\n",
              "      <td>replied_to</td>\n",
              "      <td>2020-10-29 17:49:59</td>\n",
              "      <td>en</td>\n",
              "      <td>bipolar</td>\n",
              "      <td>294576982</td>\n",
              "      <td>@ABingham93 aye theyre more solid than ma hand 😂</td>\n",
              "      <td>aye theyre more solid than ma hand 😂</td>\n",
              "      <td>0</td>\n",
              "      <td>...</td>\n",
              "      <td>0.0</td>\n",
              "      <td>Gen-Z</td>\n",
              "      <td>Male</td>\n",
              "      <td>Middle/Elemntary School</td>\n",
              "      <td>NaN</td>\n",
              "      <td>NaN</td>\n",
              "      <td>NaN</td>\n",
              "      <td>NaN</td>\n",
              "      <td>NaN</td>\n",
              "      <td>2011-05-07 07:55:07</td>\n",
              "    </tr>\n",
              "  </tbody>\n",
              "</table>\n",
              "<p>1 rows × 27 columns</p>\n",
              "</div>\n",
              "    <div class=\"colab-df-buttons\">\n",
              "\n",
              "  <div class=\"colab-df-container\">\n",
              "    <button class=\"colab-df-convert\" onclick=\"convertToInteractive('df-0f48143c-2b43-431e-91ad-14351b9be921')\"\n",
              "            title=\"Convert this dataframe to an interactive table.\"\n",
              "            style=\"display:none;\">\n",
              "\n",
              "  <svg xmlns=\"http://www.w3.org/2000/svg\" height=\"24px\" viewBox=\"0 -960 960 960\">\n",
              "    <path d=\"M120-120v-720h720v720H120Zm60-500h600v-160H180v160Zm220 220h160v-160H400v160Zm0 220h160v-160H400v160ZM180-400h160v-160H180v160Zm440 0h160v-160H620v160ZM180-180h160v-160H180v160Zm440 0h160v-160H620v160Z\"/>\n",
              "  </svg>\n",
              "    </button>\n",
              "\n",
              "  <style>\n",
              "    .colab-df-container {\n",
              "      display:flex;\n",
              "      gap: 12px;\n",
              "    }\n",
              "\n",
              "    .colab-df-convert {\n",
              "      background-color: #E8F0FE;\n",
              "      border: none;\n",
              "      border-radius: 50%;\n",
              "      cursor: pointer;\n",
              "      display: none;\n",
              "      fill: #1967D2;\n",
              "      height: 32px;\n",
              "      padding: 0 0 0 0;\n",
              "      width: 32px;\n",
              "    }\n",
              "\n",
              "    .colab-df-convert:hover {\n",
              "      background-color: #E2EBFA;\n",
              "      box-shadow: 0px 1px 2px rgba(60, 64, 67, 0.3), 0px 1px 3px 1px rgba(60, 64, 67, 0.15);\n",
              "      fill: #174EA6;\n",
              "    }\n",
              "\n",
              "    .colab-df-buttons div {\n",
              "      margin-bottom: 4px;\n",
              "    }\n",
              "\n",
              "    [theme=dark] .colab-df-convert {\n",
              "      background-color: #3B4455;\n",
              "      fill: #D2E3FC;\n",
              "    }\n",
              "\n",
              "    [theme=dark] .colab-df-convert:hover {\n",
              "      background-color: #434B5C;\n",
              "      box-shadow: 0px 1px 3px 1px rgba(0, 0, 0, 0.15);\n",
              "      filter: drop-shadow(0px 1px 2px rgba(0, 0, 0, 0.3));\n",
              "      fill: #FFFFFF;\n",
              "    }\n",
              "  </style>\n",
              "\n",
              "    <script>\n",
              "      const buttonEl =\n",
              "        document.querySelector('#df-0f48143c-2b43-431e-91ad-14351b9be921 button.colab-df-convert');\n",
              "      buttonEl.style.display =\n",
              "        google.colab.kernel.accessAllowed ? 'block' : 'none';\n",
              "\n",
              "      async function convertToInteractive(key) {\n",
              "        const element = document.querySelector('#df-0f48143c-2b43-431e-91ad-14351b9be921');\n",
              "        const dataTable =\n",
              "          await google.colab.kernel.invokeFunction('convertToInteractive',\n",
              "                                                    [key], {});\n",
              "        if (!dataTable) return;\n",
              "\n",
              "        const docLinkHtml = 'Like what you see? Visit the ' +\n",
              "          '<a target=\"_blank\" href=https://colab.research.google.com/notebooks/data_table.ipynb>data table notebook</a>'\n",
              "          + ' to learn more about interactive tables.';\n",
              "        element.innerHTML = '';\n",
              "        dataTable['output_type'] = 'display_data';\n",
              "        await google.colab.output.renderOutput(dataTable, element);\n",
              "        const docLink = document.createElement('div');\n",
              "        docLink.innerHTML = docLinkHtml;\n",
              "        element.appendChild(docLink);\n",
              "      }\n",
              "    </script>\n",
              "  </div>\n",
              "\n",
              "\n",
              "    </div>\n",
              "  </div>\n"
            ],
            "application/vnd.google.colaboratory.intrinsic+json": {
              "type": "dataframe"
            }
          },
          "metadata": {},
          "execution_count": 19
        }
      ]
    },
    {
      "cell_type": "markdown",
      "source": [
        "### Final Touches"
      ],
      "metadata": {
        "id": "tqpJ66wmOVeX"
      }
    },
    {
      "cell_type": "code",
      "source": [
        "tweetsDf.sample()"
      ],
      "metadata": {
        "colab": {
          "base_uri": "https://localhost:8080/",
          "height": 147
        },
        "id": "qUHlYq3auJEi",
        "outputId": "fccfbc72-146f-4941-d1b9-41d49e4946de"
      },
      "execution_count": null,
      "outputs": [
        {
          "output_type": "execute_result",
          "data": {
            "text/plain": [
              "                          id tweet_type referenced_tweet_type  \\\n",
              "1493569  1350110557085556746   timeline              original   \n",
              "\n",
              "                 created_at lang disorder            author_id  \\\n",
              "1493569 2021-01-15 16:00:15   en  anxiety  1125082133893132291   \n",
              "\n",
              "               author_since                                    text  \\\n",
              "1493569 2019-05-05 12:57:38  Not surprising https://t.co/DhAWiHnkma   \n",
              "\n",
              "           cleaned_text  ...  treatment_date  music_id  relax_score_org  \\\n",
              "1493569  not surprising  ...      2021-03-13       0.0              1.0   \n",
              "\n",
              "         stress_score_org relax_score  stress_score combined_score age_group  \\\n",
              "1493569              -1.0         0.0           0.0            0.5     Gen-Z   \n",
              "\n",
              "         gender                edu_level  \n",
              "1493569    Male  Middle/Elemntary School  \n",
              "\n",
              "[1 rows x 27 columns]"
            ],
            "text/html": [
              "\n",
              "  <div id=\"df-7628e69a-ef02-401c-99a4-8396c9693d03\" class=\"colab-df-container\">\n",
              "    <div>\n",
              "<style scoped>\n",
              "    .dataframe tbody tr th:only-of-type {\n",
              "        vertical-align: middle;\n",
              "    }\n",
              "\n",
              "    .dataframe tbody tr th {\n",
              "        vertical-align: top;\n",
              "    }\n",
              "\n",
              "    .dataframe thead th {\n",
              "        text-align: right;\n",
              "    }\n",
              "</style>\n",
              "<table border=\"1\" class=\"dataframe\">\n",
              "  <thead>\n",
              "    <tr style=\"text-align: right;\">\n",
              "      <th></th>\n",
              "      <th>id</th>\n",
              "      <th>tweet_type</th>\n",
              "      <th>referenced_tweet_type</th>\n",
              "      <th>created_at</th>\n",
              "      <th>lang</th>\n",
              "      <th>disorder</th>\n",
              "      <th>author_id</th>\n",
              "      <th>author_since</th>\n",
              "      <th>text</th>\n",
              "      <th>cleaned_text</th>\n",
              "      <th>...</th>\n",
              "      <th>treatment_date</th>\n",
              "      <th>music_id</th>\n",
              "      <th>relax_score_org</th>\n",
              "      <th>stress_score_org</th>\n",
              "      <th>relax_score</th>\n",
              "      <th>stress_score</th>\n",
              "      <th>combined_score</th>\n",
              "      <th>age_group</th>\n",
              "      <th>gender</th>\n",
              "      <th>edu_level</th>\n",
              "    </tr>\n",
              "  </thead>\n",
              "  <tbody>\n",
              "    <tr>\n",
              "      <th>1493569</th>\n",
              "      <td>1350110557085556746</td>\n",
              "      <td>timeline</td>\n",
              "      <td>original</td>\n",
              "      <td>2021-01-15 16:00:15</td>\n",
              "      <td>en</td>\n",
              "      <td>anxiety</td>\n",
              "      <td>1125082133893132291</td>\n",
              "      <td>2019-05-05 12:57:38</td>\n",
              "      <td>Not surprising https://t.co/DhAWiHnkma</td>\n",
              "      <td>not surprising</td>\n",
              "      <td>...</td>\n",
              "      <td>2021-03-13</td>\n",
              "      <td>0.0</td>\n",
              "      <td>1.0</td>\n",
              "      <td>-1.0</td>\n",
              "      <td>0.0</td>\n",
              "      <td>0.0</td>\n",
              "      <td>0.5</td>\n",
              "      <td>Gen-Z</td>\n",
              "      <td>Male</td>\n",
              "      <td>Middle/Elemntary School</td>\n",
              "    </tr>\n",
              "  </tbody>\n",
              "</table>\n",
              "<p>1 rows × 27 columns</p>\n",
              "</div>\n",
              "    <div class=\"colab-df-buttons\">\n",
              "\n",
              "  <div class=\"colab-df-container\">\n",
              "    <button class=\"colab-df-convert\" onclick=\"convertToInteractive('df-7628e69a-ef02-401c-99a4-8396c9693d03')\"\n",
              "            title=\"Convert this dataframe to an interactive table.\"\n",
              "            style=\"display:none;\">\n",
              "\n",
              "  <svg xmlns=\"http://www.w3.org/2000/svg\" height=\"24px\" viewBox=\"0 -960 960 960\">\n",
              "    <path d=\"M120-120v-720h720v720H120Zm60-500h600v-160H180v160Zm220 220h160v-160H400v160Zm0 220h160v-160H400v160ZM180-400h160v-160H180v160Zm440 0h160v-160H620v160ZM180-180h160v-160H180v160Zm440 0h160v-160H620v160Z\"/>\n",
              "  </svg>\n",
              "    </button>\n",
              "\n",
              "  <style>\n",
              "    .colab-df-container {\n",
              "      display:flex;\n",
              "      gap: 12px;\n",
              "    }\n",
              "\n",
              "    .colab-df-convert {\n",
              "      background-color: #E8F0FE;\n",
              "      border: none;\n",
              "      border-radius: 50%;\n",
              "      cursor: pointer;\n",
              "      display: none;\n",
              "      fill: #1967D2;\n",
              "      height: 32px;\n",
              "      padding: 0 0 0 0;\n",
              "      width: 32px;\n",
              "    }\n",
              "\n",
              "    .colab-df-convert:hover {\n",
              "      background-color: #E2EBFA;\n",
              "      box-shadow: 0px 1px 2px rgba(60, 64, 67, 0.3), 0px 1px 3px 1px rgba(60, 64, 67, 0.15);\n",
              "      fill: #174EA6;\n",
              "    }\n",
              "\n",
              "    .colab-df-buttons div {\n",
              "      margin-bottom: 4px;\n",
              "    }\n",
              "\n",
              "    [theme=dark] .colab-df-convert {\n",
              "      background-color: #3B4455;\n",
              "      fill: #D2E3FC;\n",
              "    }\n",
              "\n",
              "    [theme=dark] .colab-df-convert:hover {\n",
              "      background-color: #434B5C;\n",
              "      box-shadow: 0px 1px 3px 1px rgba(0, 0, 0, 0.15);\n",
              "      filter: drop-shadow(0px 1px 2px rgba(0, 0, 0, 0.3));\n",
              "      fill: #FFFFFF;\n",
              "    }\n",
              "  </style>\n",
              "\n",
              "    <script>\n",
              "      const buttonEl =\n",
              "        document.querySelector('#df-7628e69a-ef02-401c-99a4-8396c9693d03 button.colab-df-convert');\n",
              "      buttonEl.style.display =\n",
              "        google.colab.kernel.accessAllowed ? 'block' : 'none';\n",
              "\n",
              "      async function convertToInteractive(key) {\n",
              "        const element = document.querySelector('#df-7628e69a-ef02-401c-99a4-8396c9693d03');\n",
              "        const dataTable =\n",
              "          await google.colab.kernel.invokeFunction('convertToInteractive',\n",
              "                                                    [key], {});\n",
              "        if (!dataTable) return;\n",
              "\n",
              "        const docLinkHtml = 'Like what you see? Visit the ' +\n",
              "          '<a target=\"_blank\" href=https://colab.research.google.com/notebooks/data_table.ipynb>data table notebook</a>'\n",
              "          + ' to learn more about interactive tables.';\n",
              "        element.innerHTML = '';\n",
              "        dataTable['output_type'] = 'display_data';\n",
              "        await google.colab.output.renderOutput(dataTable, element);\n",
              "        const docLink = document.createElement('div');\n",
              "        docLink.innerHTML = docLinkHtml;\n",
              "        element.appendChild(docLink);\n",
              "      }\n",
              "    </script>\n",
              "  </div>\n",
              "\n",
              "\n",
              "    </div>\n",
              "  </div>\n"
            ],
            "application/vnd.google.colaboratory.intrinsic+json": {
              "type": "dataframe"
            }
          },
          "metadata": {},
          "execution_count": 12
        }
      ]
    },
    {
      "cell_type": "code",
      "source": [
        "tweetsDf.dtypes"
      ],
      "metadata": {
        "colab": {
          "base_uri": "https://localhost:8080/"
        },
        "id": "LJDNUxGAZDPB",
        "outputId": "b2de4533-1c5d-402f-e33c-3621f787d1a8"
      },
      "execution_count": null,
      "outputs": [
        {
          "output_type": "execute_result",
          "data": {
            "text/plain": [
              "id                                int64\n",
              "tweet_type                       object\n",
              "referenced_tweet_type            object\n",
              "created_at               datetime64[ns]\n",
              "lang                             object\n",
              "disorder                         object\n",
              "author_id                        object\n",
              "text                             object\n",
              "cleaned_text                     object\n",
              "retweet_count                     int64\n",
              "reply_count                       int64\n",
              "like_count                        int64\n",
              "quote_count                       int64\n",
              "source                           object\n",
              "group                             int64\n",
              "diagnosis_date                   object\n",
              "treatment_date           datetime64[ns]\n",
              "music_id                        float64\n",
              "age_group                        object\n",
              "gender                           object\n",
              "edu_level                        object\n",
              "relax_score_org                 float64\n",
              "stress_score_org                float64\n",
              "relax_score                     float64\n",
              "stress_score                    float64\n",
              "combined_score                  float64\n",
              "author_since             datetime64[ns]\n",
              "dtype: object"
            ]
          },
          "metadata": {},
          "execution_count": 20
        }
      ]
    },
    {
      "cell_type": "code",
      "source": [
        "# Final data types fixes\n",
        "tweetsDf[\"diagnosis_date\"] = pd.to_datetime(tweetsDf[\"diagnosis_date\"])\n",
        "# Fill na on referenced_tweet_type\n",
        "tweetsDf[\"referenced_tweet_type\"] = tweetsDf[\"referenced_tweet_type\"].fillna(\"original\")"
      ],
      "metadata": {
        "id": "qA5NdZQqb3lI"
      },
      "execution_count": null,
      "outputs": []
    },
    {
      "cell_type": "code",
      "source": [
        "tweetsDf.columns"
      ],
      "metadata": {
        "colab": {
          "base_uri": "https://localhost:8080/"
        },
        "id": "98OlmlQsxDWv",
        "outputId": "14364198-2d5f-41bb-a647-d0bc136bb62f"
      },
      "execution_count": null,
      "outputs": [
        {
          "output_type": "execute_result",
          "data": {
            "text/plain": [
              "Index(['id', 'tweet_type', 'referenced_tweet_type', 'created_at', 'lang',\n",
              "       'disorder', 'author_id', 'author_since', 'text', 'cleaned_text',\n",
              "       'retweet_count', 'reply_count', 'like_count', 'quote_count', 'source',\n",
              "       'group', 'diagnosis_date', 'treatment_date', 'music_id',\n",
              "       'relax_score_org', 'stress_score_org', 'relax_score', 'stress_score',\n",
              "       'combined_score', 'age_group', 'gender', 'edu_level'],\n",
              "      dtype='object')"
            ]
          },
          "metadata": {},
          "execution_count": 13
        }
      ]
    },
    {
      "cell_type": "code",
      "source": [
        "# Reorganize the columns\n",
        "cols = ['id', 'tweet_type', 'referenced_tweet_type', 'created_at', 'lang',\n",
        "       'disorder', 'author_id', 'author_since', 'text', 'cleaned_text', 'retweet_count',\n",
        "       'reply_count', 'like_count', 'quote_count', 'source', 'group',\n",
        "       'diagnosis_date', 'treatment_date', 'music_id', 'relax_score_org',\n",
        "       'stress_score_org', 'relax_score', 'stress_score', 'combined_score',\n",
        "       'age_group', 'gender', 'edu_level']\n",
        "tweetsDf = tweetsDf[cols]"
      ],
      "metadata": {
        "id": "f5DOynMkPaDv"
      },
      "execution_count": null,
      "outputs": []
    },
    {
      "cell_type": "markdown",
      "source": [
        "### Save\n",
        "Main and individual files"
      ],
      "metadata": {
        "id": "viuS4ygdOXpG"
      }
    },
    {
      "cell_type": "code",
      "source": [
        "# Save the main dataframe to parquet\n",
        "fileName = os.path.join(tweetsDir, \"processedTweets.parquet\")\n",
        "tweetsDf.to_parquet(fileName)"
      ],
      "metadata": {
        "id": "kgzU-_T0EC-s"
      },
      "execution_count": null,
      "outputs": []
    },
    {
      "cell_type": "code",
      "source": [
        "# Save the anxiety data with Tensi Score\n",
        "anxietyWithTensiScoreDf = tweetsDf[(tweetsDf.disorder == \"anxiety\")].drop_duplicates\n",
        "fileName = os.path.join(tensiStrenghtDir, \"anxietyFullWithTensiScore.pickle\")\n",
        "anxietyWithTensiScoreDf.to_pickle(fileName)\n",
        "print(\"Shape:\", anxietyWithTensiScoreDf.shape)"
      ],
      "metadata": {
        "id": "BfdZaeWusXQL",
        "colab": {
          "base_uri": "https://localhost:8080/"
        },
        "outputId": "b80aac33-6d3e-452c-a7c3-eda435e0222c"
      },
      "execution_count": null,
      "outputs": [
        {
          "output_type": "stream",
          "name": "stdout",
          "text": [
            "Shape: (3319097, 27)\n"
          ]
        }
      ]
    },
    {
      "cell_type": "code",
      "source": [
        "# Save the depression data with Tensi Score\n",
        "depressionWithTensiScoreDf = tweetsDf[(tweetsDf.disorder == \"depression\")]\n",
        "fileName = os.path.join(tensiStrenghtDir, \"depressionFullWithTensiScore.pickle\")\n",
        "depressionWithTensiScoreDf.to_pickle(fileName)\n",
        "print(\"Shape:\", depressionWithTensiScoreDf.shape)"
      ],
      "metadata": {
        "id": "2fsYvvk_sp7v",
        "colab": {
          "base_uri": "https://localhost:8080/"
        },
        "outputId": "3cbe7f96-48e8-408c-8578-b1f32cab978b"
      },
      "execution_count": null,
      "outputs": [
        {
          "output_type": "stream",
          "name": "stdout",
          "text": [
            "Shape: (7272947, 27)\n"
          ]
        }
      ]
    },
    {
      "cell_type": "code",
      "source": [
        "# Save the PTSD data with Tensi Score\n",
        "ptsdWithTensiScoreDf = tweetsDf[(tweetsDf.disorder == \"ptsd\")]\n",
        "fileName = os.path.join(tensiStrenghtDir, \"ptsdFullWithTensiScore.pickle\")\n",
        "ptsdWithTensiScoreDf.to_pickle(fileName)\n",
        "print(\"Shape:\", ptsdWithTensiScoreDf.shape)"
      ],
      "metadata": {
        "id": "TTmaPcqvPtd2",
        "colab": {
          "base_uri": "https://localhost:8080/"
        },
        "outputId": "d75d5eeb-7cbb-4230-d470-72f20855a081"
      },
      "execution_count": null,
      "outputs": [
        {
          "output_type": "stream",
          "name": "stdout",
          "text": [
            "Shape: (2930285, 27)\n"
          ]
        }
      ]
    }
  ]
}